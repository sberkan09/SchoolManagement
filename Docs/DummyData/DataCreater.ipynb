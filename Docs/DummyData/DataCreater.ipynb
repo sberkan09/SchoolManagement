{
 "cells": [
  {
   "cell_type": "code",
   "execution_count": 5,
   "metadata": {},
   "outputs": [],
   "source": [
    "import numpy as np\n",
    "import time\n",
    "import datetime\n",
    "import random\n",
    "import pandas as pd"
   ]
  },
  {
   "cell_type": "code",
   "execution_count": 6,
   "metadata": {},
   "outputs": [],
   "source": [
    "class Calisan:\n",
    "    def __init__(self, TC_NO, isim, soyisim, adres, tel_no, e_posta) -> None:\n",
    "        self.TC_NO = TC_NO\n",
    "        self.isim = isim\n",
    "        self.soyisim = soyisim\n",
    "        self.adres = adres\n",
    "        self.tel_no = tel_no\n",
    "        self.e_posta = e_posta"
   ]
  },
  {
   "cell_type": "code",
   "execution_count": 7,
   "metadata": {},
   "outputs": [],
   "source": [
    "def unique_time():\n",
    "    time.sleep(0.1)\n",
    "    return round(time.time() * 10000000) % 1000000"
   ]
  },
  {
   "cell_type": "code",
   "execution_count": 8,
   "metadata": {},
   "outputs": [],
   "source": [
    "def TCNOGenerator():\n",
    "    st = time.gmtime()\n",
    "    TCNO = str(unique_time())\n",
    "    while (len(TCNO) < 11):\n",
    "        TCNO = TCNO + str(random.randint(0, 9))\n",
    "    return TCNO"
   ]
  },
  {
   "cell_type": "code",
   "execution_count": 9,
   "metadata": {},
   "outputs": [],
   "source": [
    "def TCNOGeneratorN(n):\n",
    "    arr = np.zeros(n, dtype='U11')\n",
    "    for i in range(n):\n",
    "        arr[i] = TCNOGenerator()\n",
    "    return arr"
   ]
  },
  {
   "cell_type": "code",
   "execution_count": 10,
   "metadata": {},
   "outputs": [],
   "source": [
    "def createPerson(n):\n",
    "    ogretmen_tcnos = df_tcnos.tail(n)['id'].to_numpy()\n",
    "    df_tcnos.drop(df_tcnos.tail(n).index, inplace=True)\n",
    "    ogretmen_names = df_names.sample(n = n)['Name'].to_numpy()\n",
    "    ogretmen_surnames = df_surnames.sample(n = n)['Surname'].to_numpy()\n",
    "    ogretmen_adres = ogretmen_names + ogretmen_surnames\n",
    "    ogretmen_telno = ogretmen_tcnos\n",
    "    ogretmen_eposta = np.empty(len(ogretmen_tcnos), dtype='U20')\n",
    "    for i in range(len(ogretmen_tcnos)):\n",
    "        ogretmen_eposta[i] = str(ogretmen_tcnos[i]) + '@mail.com'\n",
    "    return pd.DataFrame({'TC_No': ogretmen_tcnos, 'Isim': ogretmen_names, 'Soyisim': ogretmen_surnames, 'Adres': ogretmen_adres, 'Tel_no': ogretmen_telno, 'E_posta': ogretmen_eposta})"
   ]
  },
  {
   "cell_type": "code",
   "execution_count": 11,
   "metadata": {},
   "outputs": [],
   "source": [
    "def createTemizlikci(n):\n",
    "    return createPerson(n)"
   ]
  },
  {
   "cell_type": "code",
   "execution_count": 12,
   "metadata": {},
   "outputs": [],
   "source": [
    "def createIdari(n):\n",
    "    return createPerson(n)"
   ]
  },
  {
   "cell_type": "code",
   "execution_count": 13,
   "metadata": {},
   "outputs": [],
   "source": [
    "def CreateOgrenciVeli(n):\n",
    "    df_ogrenci = createPerson(n)\n",
    "    df_veli = createPerson(n)\n",
    "    df_ogrenci.drop('Adres', axis=1, inplace=True)\n",
    "    df_veli.drop('Adres', axis=1, inplace=True)\n",
    "    oTC = df_ogrenci['TC_No'].to_numpy()\n",
    "    vTC = df_veli['TC_No'].to_numpy()\n",
    "    relation = np.empty(len(oTC), dtype='U4')\n",
    "    for i in range(len(oTC)):\n",
    "        relation[i] = 'anne'\n",
    "    df_relation = pd.DataFrame({'Vtc_No': vTC, 'Otc_No': oTC, 'yakinlik': relation})\n",
    "    return df_ogrenci, df_veli, df_relation"
   ]
  },
  {
   "cell_type": "code",
   "execution_count": 14,
   "metadata": {},
   "outputs": [],
   "source": [
    "def CreateMezunOgrenciVeli(n):\n",
    "    df_ogrenci, df_veli, df_relation = CreateOgrenciVeli(n)\n",
    "    date = np.empty(df_ogrenci.shape[0])\n",
    "    for i in range(df_ogrenci.shape[0]):\n",
    "        date[i] = 0\n",
    "    df_ogrenci['Mezuniyet_tarihi'] = date\n",
    "    return df_ogrenci, df_veli, df_relation"
   ]
  },
  {
   "cell_type": "code",
   "execution_count": 15,
   "metadata": {},
   "outputs": [],
   "source": [
    "def createFullTimeOgretmen(n):\n",
    "    df_ogretmen = createPerson(n)\n",
    "    part_mi = np.empty(n, dtype=np.bool_)\n",
    "    maas = np.empty(n, dtype=np.uint16)\n",
    "    for i in range(n):\n",
    "        part_mi[i] = False\n",
    "        maas[i] = random.randint(1000, 2000)\n",
    "    df_ogretmen['Part_mi'] = part_mi\n",
    "    df_ogretmen['Maas'] = maas\n",
    "    return df_ogretmen"
   ]
  },
  {
   "cell_type": "code",
   "execution_count": 16,
   "metadata": {},
   "outputs": [],
   "source": [
    "def createPartTimer(n):\n",
    "    df_ogretmen = createPerson(n)\n",
    "    part_mi = np.empty(n, dtype=np.bool_)\n",
    "    saat = np.empty(n, dtype=np.uint8)\n",
    "    for i in range(n):\n",
    "        part_mi[i] = True\n",
    "        saat[i] = random.randint(1, 20)\n",
    "    df_ogretmen['Part_mi'] = part_mi\n",
    "    df_ogretmen['Saat'] = saat\n",
    "    return df_ogretmen"
   ]
  },
  {
   "cell_type": "code",
   "execution_count": 17,
   "metadata": {},
   "outputs": [],
   "source": [
    "df_names = pd.read_csv('names.txt')\n",
    "df_surnames = pd.read_csv('surnames.txt')\n",
    "df_tcnos= pd.read_csv('tcnos2.csv')"
   ]
  },
  {
   "cell_type": "code",
   "execution_count": 18,
   "metadata": {},
   "outputs": [],
   "source": [
    "# Çalışan datası oluşturma\n",
    "\n",
    "calisan = pd.DataFrame()"
   ]
  },
  {
   "cell_type": "code",
   "execution_count": 19,
   "metadata": {},
   "outputs": [],
   "source": [
    "df_temizlikci = createTemizlikci(5)\n",
    "df_idari = createIdari(2)\n",
    "df_part_timer = createPartTimer(5)\n",
    "df_full_time = createFullTimeOgretmen(10)\n",
    "\n",
    "df_calisan = pd.concat([df_temizlikci, df_idari, df_part_timer.drop('Saat', axis=1), df_full_time.drop('Maas', axis=1)])\n",
    "df_calisan.drop(['Part_mi'], axis=1, inplace=True)\n",
    "df_ogretmen = pd.concat([df_part_timer.drop('Saat', axis=1), df_full_time.drop('Maas', axis=1)])\n",
    "df_full_time.drop(['Part_mi'], axis=1, inplace=True)\n",
    "df_part_timer.drop(['Part_mi'], axis=1, inplace=True)\n",
    "\n",
    "df_aogrenci, df_aveli, df_arelation = CreateOgrenciVeli(500)\n",
    "df_mogrenci, df_mveli, df_mrelation = CreateMezunOgrenciVeli(100)\n",
    "df_ogrenci = pd.concat([df_aogrenci, df_mogrenci.drop('Mezuniyet_tarihi', axis=1)])\n",
    "df_veli = pd.concat([df_aveli, df_mveli])\n",
    "df_relation = pd.concat([df_arelation, df_mrelation])"
   ]
  },
  {
   "cell_type": "code",
   "execution_count": 20,
   "metadata": {},
   "outputs": [],
   "source": [
    "df_ucret = pd.DataFrame()\n",
    "saatArray = np.unique(df_part_timer['Saat'].to_numpy())\n",
    "ucretArray = np.empty(len(saatArray), dtype=np.uint16)\n",
    "for i in range(len(saatArray)):\n",
    "    ucretArray[i] = saatArray[i] * 10\n",
    "\n",
    "df_ucret['Saat'] = saatArray\n",
    "df_ucret['Ucret'] = ucretArray"
   ]
  },
  {
   "cell_type": "code",
   "execution_count": 24,
   "metadata": {},
   "outputs": [],
   "source": [
    "df_temizlikci.loc[:, 'TC_No'].to_csv('data/Temizlikci.csv', index=False)\n",
    "df_idari.loc[:, ['TC_No']].to_csv('data/Idari.csv', index=False)\n",
    "df_part_timer.loc[:, ['TC_No', 'Saat']].to_csv('data/PartTimer.csv', index=False)\n",
    "df_full_time.loc[:, ['TC_No', 'Maas']].to_csv('data/FullTimer.csv', index=False)\n",
    "df_calisan.to_csv('data/Calisan.csv', index=False)\n",
    "df_ogretmen.loc[:, ['TC_No', 'Part_mi']].to_csv('data/Ogretmen.csv', index=False)\n",
    "\n",
    "df_ucret.to_csv('data/Ucret_Tablosu.csv', index=False)\n",
    "\n",
    "df_ogrenci.to_csv('data/Ogrenci.csv', index=False)\n",
    "df_aogrenci.loc[:, ['TC_No']].to_csv('data/Aktif.csv', index=False)\n",
    "df_mogrenci.loc[:, ['TC_No', 'Mezuniyet_tarihi']].to_csv('data/Mezun.csv', index=False)\n",
    "df_veli.to_csv('data/Veli.csv', index=False)\n",
    "df_relation.to_csv('data/Aile_Iliskisi.csv', index=False)"
   ]
  },
  {
   "cell_type": "code",
   "execution_count": 25,
   "metadata": {},
   "outputs": [
    {
     "name": "stdout",
     "output_type": "stream",
     "text": [
      "Success! String written to text file.\n",
      "Success! String written to text file.\n",
      "Success! String written to text file.\n",
      "Success! String written to text file.\n",
      "Success! String written to text file.\n",
      "Success! String written to text file.\n",
      "Success! String written to text file.\n",
      "Success! String written to text file.\n",
      "Success! String written to text file.\n",
      "Success! String written to text file.\n",
      "Success! String written to text file.\n",
      "Success! String written to text file.\n"
     ]
    }
   ],
   "source": [
    "import pandas as pd\n",
    "\n",
    "# Function to read CSV file and generate SQL insert queries\n",
    "def csv_to_sql(csv_file, table_name):\n",
    "    # Read CSV file into a pandas DataFrame\n",
    "    df = pd.read_csv(csv_file)\n",
    "\n",
    "    columns = ', '.join(str(column).upper() for column in df.columns)\n",
    "\n",
    "    # Generate SQL insert queries\n",
    "    sql_query = \"\"\n",
    "    for row in df.to_numpy():\n",
    "        values = ', '.join([f\"'{str(value)}'\" for value in row])\n",
    "        sql_query = sql_query + f\"INSERT INTO {table_name} ({columns}) VALUES ({values});\\n\"\n",
    "\n",
    "    return sql_query\n",
    "\n",
    "# List of CSV file names and corresponding table names\n",
    "csv_table_mapping = {\n",
    "    'Calisan.csv': 'calisan',\n",
    "    'Temizlikci.csv': 'temizlikci',\n",
    "    'Ogretmen.csv': 'ogretmen',\n",
    "    'Aile_Iliskisi.csv': 'aile_iliskisi',\n",
    "    'Aktif.csv': 'aktif',\n",
    "    'FullTimer.csv': 'full_timer',\n",
    "    'Idari.csv': 'idari',\n",
    "    'Mezun.csv': 'mezun',\n",
    "    'Ogrenci.csv': 'ogrenci',\n",
    "    'Veli.csv': 'veli',\n",
    "    'PartTimer.csv': 'part_timer',\n",
    "    'Ucret_Tablosu.csv': 'ucret_tablosu'\n",
    "}\n",
    "\n",
    "# Directory path where CSV files are located\n",
    "csv_directory = './data'\n",
    "\n",
    "# Iterate through the CSV files and generate SQL queries\n",
    "for csv_file, table_name in csv_table_mapping.items():\n",
    "    file_path = f'{csv_directory}/{csv_file}'\n",
    "    sql_query = csv_to_sql(file_path, table_name)\n",
    "\n",
    "    text_file = open(\"./insertQuery/\" + table_name + \".txt\", \"w\")\n",
    "\n",
    "    n = text_file.write(sql_query)\n",
    "\n",
    "    if n == len(sql_query):\n",
    "        print(\"Success! String written to text file.\")\n",
    "    else:\n",
    "        print(\"Failure! String not written to text file.\")\n",
    "\n",
    "    # Close file\n",
    "    text_file.close()\n"
   ]
  },
  {
   "cell_type": "code",
   "execution_count": 3,
   "metadata": {},
   "outputs": [],
   "source": [
    "import pandas as pd\n",
    "df = pd.read_csv(\"./Data/Aktif.csv\")"
   ]
  },
  {
   "cell_type": "code",
   "execution_count": null,
   "metadata": {},
   "outputs": [],
   "source": []
  }
 ],
 "metadata": {
  "kernelspec": {
   "display_name": "Python 3",
   "language": "python",
   "name": "python3"
  },
  "language_info": {
   "codemirror_mode": {
    "name": "ipython",
    "version": 3
   },
   "file_extension": ".py",
   "mimetype": "text/x-python",
   "name": "python",
   "nbconvert_exporter": "python",
   "pygments_lexer": "ipython3",
   "version": "3.8.0"
  }
 },
 "nbformat": 4,
 "nbformat_minor": 2
}
